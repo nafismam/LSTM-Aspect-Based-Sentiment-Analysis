{
 "cells": [
  {
   "cell_type": "code",
   "execution_count": 1,
   "metadata": {},
   "outputs": [],
   "source": [
    "import numpy as np\n",
    "\n",
    "# Get the interactive Tools for Matplotlib\n",
    "import matplotlib.pyplot as plt\n",
    "plt.style.use('ggplot')\n",
    "\n",
    "from sklearn.decomposition import PCA\n",
    "\n",
    "from gensim.test.utils import datapath, get_tmpfile\n",
    "from gensim.models import KeyedVectors\n",
    "from gensim.scripts.glove2word2vec import glove2word2vec\n",
    "\n"
   ]
  },
  {
   "cell_type": "code",
   "execution_count": 12,
   "metadata": {},
   "outputs": [],
   "source": [
    "glove_file = datapath('E:/Programming/299 Project/RAF_Repo/glove.840B.300d.txt')\n",
    "word2vec_glove_file = get_tmpfile(\"E:/Programming/299 Project/RAF_Repo/glove.840B.300d.word2vec.txt\")\n"
   ]
  },
  {
   "cell_type": "code",
   "execution_count": 13,
   "metadata": {},
   "outputs": [],
   "source": [
    "model = KeyedVectors.load_word2vec_format(glove_file,binary=False, no_header=True)"
   ]
  },
  {
   "cell_type": "code",
   "execution_count": 14,
   "metadata": {},
   "outputs": [
    {
     "name": "stderr",
     "output_type": "stream",
     "text": [
      "e:\\Programming\\299 Project\\RAF_Repo\\env\\Lib\\site-packages\\gensim\\models\\keyedvectors.py:849: RuntimeWarning: invalid value encountered in divide\n",
      "  dists = dot(self.vectors[clip_start:clip_end], mean) / self.norms[clip_start:clip_end]\n"
     ]
    },
    {
     "data": {
      "text/plain": [
       "[('barack', 0.9002272486686707),\n",
       " ('mccain', 0.8256934285163879),\n",
       " ('clinton', 0.7826938629150391),\n",
       " ('hillary', 0.7601865530014038),\n",
       " ('palin', 0.7325173616409302),\n",
       " ('romney', 0.731968104839325),\n",
       " ('biden', 0.7148062586784363),\n",
       " ('Barack', 0.6800318360328674),\n",
       " ('obamas', 0.6754997372627258),\n",
       " ('gop', 0.6750357747077942)]"
      ]
     },
     "execution_count": 14,
     "metadata": {},
     "output_type": "execute_result"
    }
   ],
   "source": [
    "model.most_similar('obama')"
   ]
  },
  {
   "attachments": {},
   "cell_type": "markdown",
   "metadata": {},
   "source": []
  },
  {
   "cell_type": "code",
   "execution_count": 15,
   "metadata": {},
   "outputs": [
    {
     "data": {
      "text/plain": [
       "[('three', 0.9557915925979614),\n",
       " ('four', 0.9211897253990173),\n",
       " ('five', 0.8599559664726257),\n",
       " ('six', 0.8503361344337463),\n",
       " ('eight', 0.8218370079994202),\n",
       " ('several', 0.7964192628860474),\n",
       " ('seven', 0.7934829592704773),\n",
       " ('one', 0.7716981172561646),\n",
       " ('nine', 0.7557545304298401),\n",
       " ('couple', 0.719132125377655)]"
      ]
     },
     "execution_count": 15,
     "metadata": {},
     "output_type": "execute_result"
    }
   ],
   "source": [
    "model.most_similar('two')"
   ]
  },
  {
   "cell_type": "code",
   "execution_count": 17,
   "metadata": {},
   "outputs": [
    {
     "data": {
      "text/plain": [
       "[('france', 0.7916327714920044),\n",
       " ('hilton', 0.725746214389801),\n",
       " ('montreal', 0.6416676640510559),\n",
       " ('lyon', 0.6358075737953186),\n",
       " ('prague', 0.6327196955680847),\n",
       " ('tokyo', 0.6199826002120972),\n",
       " ('europe', 0.6086024641990662),\n",
       " ('amsterdam', 0.6076456904411316),\n",
       " ('london', 0.6069149971008301),\n",
       " ('marseille', 0.5999234318733215)]"
      ]
     },
     "execution_count": 17,
     "metadata": {},
     "output_type": "execute_result"
    }
   ],
   "source": [
    "model.most_similar('paris')"
   ]
  },
  {
   "cell_type": "code",
   "execution_count": 21,
   "metadata": {},
   "outputs": [
    {
     "name": "stdout",
     "output_type": "stream",
     "text": [
      "queen: 0.7752\n"
     ]
    },
    {
     "name": "stderr",
     "output_type": "stream",
     "text": [
      "e:\\Programming\\299 Project\\RAF_Repo\\env\\Lib\\site-packages\\gensim\\models\\keyedvectors.py:849: RuntimeWarning: invalid value encountered in divide\n",
      "  dists = dot(self.vectors[clip_start:clip_end], mean) / self.norms[clip_start:clip_end]\n"
     ]
    }
   ],
   "source": [
    "result = model.most_similar(positive=['woman', 'king'], negative=['man'])\n",
    "print(\"{}: {:.4f}\".format(*result[0]))"
   ]
  }
 ],
 "metadata": {
  "kernelspec": {
   "display_name": "env",
   "language": "python",
   "name": "python3"
  },
  "language_info": {
   "codemirror_mode": {
    "name": "ipython",
    "version": 3
   },
   "file_extension": ".py",
   "mimetype": "text/x-python",
   "name": "python",
   "nbconvert_exporter": "python",
   "pygments_lexer": "ipython3",
   "version": "3.11.3"
  },
  "orig_nbformat": 4
 },
 "nbformat": 4,
 "nbformat_minor": 2
}
